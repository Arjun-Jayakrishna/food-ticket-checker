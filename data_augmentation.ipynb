{
  "nbformat": 4,
  "nbformat_minor": 0,
  "metadata": {
    "colab": {
      "provenance": [],
      "include_colab_link": true
    },
    "kernelspec": {
      "name": "python3",
      "display_name": "Python 3"
    },
    "language_info": {
      "name": "python"
    }
  },
  "cells": [
    {
      "cell_type": "markdown",
      "metadata": {
        "id": "view-in-github",
        "colab_type": "text"
      },
      "source": [
        "<a href=\"https://colab.research.google.com/github/Arjun-Jayakrishna/food-ticket-checker/blob/main/data_augmentation.ipynb\" target=\"_parent\"><img src=\"https://colab.research.google.com/assets/colab-badge.svg\" alt=\"Open In Colab\"/></a>"
      ]
    },
    {
      "cell_type": "code",
      "execution_count": null,
      "metadata": {
        "colab": {
          "base_uri": "https://localhost:8080/"
        },
        "id": "dkAfxJ4DCi9B",
        "outputId": "58e1c66d-456c-4983-c050-8319a12beb05"
      },
      "outputs": [
        {
          "output_type": "stream",
          "name": "stdout",
          "text": [
            "Mounted at /content/drive\n"
          ]
        }
      ],
      "source": [
        "from google.colab import drive\n",
        "drive.mount('/content/drive')"
      ]
    },
    {
      "cell_type": "code",
      "source": [
        "import numpy as np\n",
        "import imutils\n",
        "import cv2\n",
        "import os\n",
        "import random\n",
        "import matplotlib.pyplot as plt\n",
        "from IPython.display import Image, display\n",
        "from skimage.transform import resize\n",
        "from PIL import Image, ImageEnhance\n",
        "\n",
        "def data_augmentation(path):\n",
        "\n",
        "  #Iterate through each image we have\n",
        "  for imgName in os.listdir(path):\n",
        "    #if(\"original\" in imgName):\n",
        "      #Below is basically the image opening process\n",
        "      img_path = path + \"/\" + imgName\n",
        "      img = plt.imread(img_path)\n",
        "      imgHeight = img.shape[0]\n",
        "      imgWidth = img.shape[1]\n",
        "\n",
        "      #This code below is specifically for brightness adjust (uses PIL)\n",
        "      img_for_shading = Image.open(img_path)\n",
        "\n",
        "      #Data augmentation loop\n",
        "      #We augment each photo 10 times per effect\n",
        "      for i in range(10):\n",
        "\n",
        "        #--------------------------Horizontal Translation-------------------------#\n",
        "        hori_translate = random.randint(-int(imgWidth / 10), int(imgWidth / 10))  #Generate random number to translate by\n",
        "                                                                                  #Divide by 10 to avoid major translations\n",
        "                                                                                  #(i.e. large portions of the tickets go missing)\n",
        "        #print(f\"Translated horizontally by {hori_translate} pixels.\")\n",
        "        translated = imutils.translate(img, hori_translate, 0)                    #Do the translation\n",
        "\n",
        "        #Name and save the translated image into the augmented folder\n",
        "        cv2.imwrite(path + \"/\" + imgName + \"_horiTranslate_\" +\n",
        "                    str(i) + \".jpg\", cv2.cvtColor(translated, cv2.COLOR_RGB2BGR))\n",
        "\n",
        "        #imgplot = plt.imshow(translated)\n",
        "        #plt.show()\n",
        "\n",
        "        #--------------------------Vertical Translation-------------------------#\n",
        "        verti_translate = random.randint(-int(imgHeight / 10), int(imgHeight / 10)) #Generate random number to translate by\n",
        "                                                                                    #Divide by 10 to avoid major translations\n",
        "                                                                                    #(i.e. large portions of the tickets go missing)\n",
        "        #print(f\"Translated vertically by {verti_translate} pixels.\")\n",
        "        translated = imutils.translate(img, 0, verti_translate)                    #Do the translation\n",
        "\n",
        "        #Name and save the translated image into the augmented folder\n",
        "        cv2.imwrite(path + \"/\" + imgName +\n",
        "                    \"_vertiTranslate_\" + str(i) + \".jpg\", cv2.cvtColor(translated, cv2.COLOR_RGB2BGR))\n",
        "\n",
        "        #imgplot = plt.imshow(translated)\n",
        "        #plt.show()\n",
        "\n",
        "        #--------------------------Rotation---------------------------------------#\n",
        "\n",
        "        #Randomly rotate the image\n",
        "        rotation = random.randint(0, 360)   #Generate a random rotation angle\n",
        "        #print(f\"Rotated by {rotation} degrees.\")\n",
        "        rotated = imutils.rotate(img, angle = rotation)\n",
        "\n",
        "        #Save the rotated image into the augmented folder\n",
        "        cv2.imwrite(path + \"/\" + imgName + \"_rotate_\" + str(i) + \".jpg\", cv2.cvtColor(rotated, cv2.COLOR_RGB2BGR))\n",
        "\n",
        "        #imgplot = plt.imshow(rotated)\n",
        "        #plt.show()\n",
        "\n",
        "        #--------------------------Brightness Adjust------------------------------#\n",
        "\n",
        "        #Randomly discolour the image\n",
        "        brightness = random.uniform(0.5,1.5) #Generate a random shade\n",
        "\n",
        "        #image brightness enhancer\n",
        "        enhancer = ImageEnhance.Brightness(img_for_shading)\n",
        "        im_output = enhancer.enhance(brightness)\n",
        "\n",
        "        #Save the rotated image into the augmented folder\n",
        "        #cv2.imwrite(path + \"/\" + imgName.split(\"_\")[1].split(\".\")[0] + \"_shaded_\" + str(i) + \".jpg\", cv2.cvtColor(im_output, cv2.COLOR_RGB2BGR))\n",
        "        im_output.save(path + \"/\" + imgName + \"_shaded_\" + str(i) + \".jpg\")\n",
        "\n",
        "        #imgplot = plt.imshow(im_output)\n",
        "        #plt.show()\n",
        "\n",
        "    #print(img_resized.shape)\n",
        "    #imgplot = plt.imshow(img_resized)\n",
        "    #plt.show()\n",
        "    # display(Image(img))\n",
        "\n",
        "path = \"/content/drive/MyDrive/GEC ASSIGNMENT/Burger\"\n",
        "data_augmentation(path)\n",
        "path = \"/content/drive/MyDrive/GEC ASSIGNMENT/Hotdog\"\n",
        "data_augmentation(path)\n",
        "path = \"/content/drive/MyDrive/GEC ASSIGNMENT/Ramen\"\n",
        "data_augmentation(path)\n",
        "path = \"/content/drive/MyDrive/GEC ASSIGNMENT/Counterfeit\"\n",
        "data_augmentation(path)\n",
        "\n",
        "\n",
        "\n"
      ],
      "metadata": {
        "id": "9faiVIEGClOF"
      },
      "execution_count": null,
      "outputs": []
    }
  ]
}
